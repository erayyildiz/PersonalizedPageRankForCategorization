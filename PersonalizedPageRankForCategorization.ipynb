{
 "cells": [
  {
   "cell_type": "code",
   "execution_count": 1,
   "metadata": {},
   "outputs": [
    {
     "name": "stderr",
     "output_type": "stream",
     "text": [
      "c:\\program files\\python36\\lib\\site-packages\\gensim\\utils.py:1197: UserWarning: detected Windows; aliasing chunkize to chunkize_serial\n",
      "  warnings.warn(\"detected Windows; aliasing chunkize to chunkize_serial\")\n"
     ]
    }
   ],
   "source": [
    "import re\n",
    "import collections\n",
    "import numpy as np\n",
    "import matplotlib\n",
    "import matplotlib.pyplot as plt\n",
    "import networkx as nx\n",
    "import os\n",
    "import random\n",
    "from joint_stemmer_postagger import TurkishStemmerPOSTagger\n",
    "from nltk.tokenize.casual import TweetTokenizer\n",
    "from sklearn.feature_extraction.text import CountVectorizer\n",
    "from sklearn.feature_extraction.text import TfidfTransformer\n",
    "from sklearn.metrics import pairwise_distances\n",
    "from scipy.spatial.distance import cosine\n",
    "from IPython.display import Markdown, display\n",
    "import _pickle as pickle\n",
    "from gensim.models import Doc2Vec\n",
    "from gensim.models.doc2vec import TaggedDocument\n",
    "from sklearn.manifold import TSNE\n",
    "from networkx.algorithms import community\n",
    "import pandas as pd\n",
    "from IPython.display import HTML, display"
   ]
  },
  {
   "cell_type": "code",
   "execution_count": 2,
   "metadata": {},
   "outputs": [],
   "source": [
    "def printmd(string):\n",
    "    \"\"\"\n",
    "    Print markdown strings\n",
    "    \"\"\"\n",
    "    display(Markdown(string))\n",
    "\n",
    "def asciify_txt(txt):\n",
    "    \"\"\"\n",
    "    Convert non-ascii Turkish characters (ı, ş , ğ) to their ascii forms (i, s, g)\n",
    "    :param txt: String variable tobe asciified\n",
    "    :return: Asciified string\n",
    "    \"\"\"\n",
    "    asciified = txt\n",
    "    asciified = asciified.replace(\"ı\", \"i\")\n",
    "    asciified = asciified.replace(\"ü\", \"u\")\n",
    "    asciified = asciified.replace(\"ş\", \"s\")\n",
    "    asciified = asciified.replace(\"ö\", \"o\")\n",
    "    asciified = asciified.replace(\"ğ\", \"g\")\n",
    "    asciified = asciified.replace(\"ç\", \"c\")\n",
    "    asciified = asciified.replace(\"İ\", \"I\")\n",
    "    asciified = asciified.replace(\"Ü\", \"U\")\n",
    "    asciified = asciified.replace(\"Ş\", \"S\")\n",
    "    asciified = asciified.replace(\"Ö\", \"O\")\n",
    "    asciified = asciified.replace(\"Ğ\", \"G\")\n",
    "    asciified = asciified.replace(\"Ç\", \"C\")\n",
    "    return asciified"
   ]
  },
  {
   "cell_type": "code",
   "execution_count": 3,
   "metadata": {},
   "outputs": [],
   "source": [
    "# READ TURKISH STOP WORDS FROM FILE\n",
    "stop_words = []\n",
    "with open(\"resources/nlp/turkish/stopwords.txt\", \"r\", encoding=\"UTF-8\") as f:\n",
    "    for line in f:\n",
    "        stop_words.append(line.strip())\n",
    "ascified_stop_words = []\n",
    "for stop_word in stop_words:\n",
    "    ascified_stop_words.append(asciify_txt(stop_word))"
   ]
  },
  {
   "cell_type": "code",
   "execution_count": 4,
   "metadata": {},
   "outputs": [],
   "source": [
    "# READ SEMEVAL RESTAURANT DATASET\n",
    "# Preprocessing steps: \n",
    "# (1) Tokenization, \n",
    "# (2) Lowercase all characters\n",
    "# (3) Stop word removal\n",
    "# (4) Non-word removal (punctuations and numbers)\n",
    "# (5) Naive rule based stemming for Turkish \n",
    "# (6) Asciificaiton\n",
    "\n",
    "# FILE PATHS\n",
    "raw_data_path = \"resources/data/restaurant_sentence_level.txt\"\n",
    "preprocesed_data_path = \"resources/data/restaurant_sentence_level_preprocessed.txt\"\n",
    "\n",
    "# Create tokenizer and stemmer objects\n",
    "tokenizer = TweetTokenizer()\n",
    "stemmer = TurkishStemmerPOSTagger.create_from_existed_model()\n",
    "\n",
    "raw_reviews = []\n",
    "preprocessed_reviews = []\n",
    "first_level_labels = []\n",
    "second_level_labels = []\n",
    "\n",
    "# IF PREPROCESSED FILE IS CREATED BEFORE, USE IT TO READ DATASET\n",
    "if os.path.isfile(preprocesed_data_path):\n",
    "    with open(preprocesed_data_path, \"r\", encoding=\"UTF-8\") as f:\n",
    "        for line in f:\n",
    "            splits = line.strip().split(\"\\t\")\n",
    "            if len(splits) != 3:\n",
    "                print(\"Error in line: {}\".format(line))\n",
    "            review = splits[0]\n",
    "            raw_reviews.append(review)\n",
    "            preprocessed_review = splits[1]\n",
    "            preprocessed_reviews.append(preprocessed_review)\n",
    "            labels = list(set(splits[2].split(\" \")))\n",
    "            first_level_labels.append([re.sub(r\"#.*$\", \"\", s) for s in labels])\n",
    "            second_level_labels.append([re.sub(r\"^.*#\", \"\", s) for s in labels])\n",
    "# OTHERWISE APPLY PREPROCESSING STEPS TO RAW DATA THEN SAVE IT FOR FURTHER USE\n",
    "else:\n",
    "    with open(preprocesed_data_path, \"w\", encoding=\"UTF-8\") as w:\n",
    "        with open(raw_data_path, \"r\", encoding=\"UTF-8\") as f:\n",
    "            for line in f:\n",
    "                splits = line.strip().split(\"\\t\")\n",
    "                # Check if review has a label\n",
    "                if len(splits) == 2:\n",
    "                    review = splits[0].strip()\n",
    "                    review = re.sub(\"[\\t\\r\\n ]+\", \" \", review)\n",
    "                    raw_reviews.append(review)\n",
    "                    review = review.lower()\n",
    "                    tokens = tokenizer.tokenize(review)\n",
    "                    tokens = [token for token in tokens if re.match(r\"^[a-zA-ZİĞŞÜÇÖığüöçş]+$\", token) and token not in stop_words]\n",
    "                    stems = stemmer.get_stems(tokens)\n",
    "                    stems = [asciify_txt(stem) for stem in stems if asciify_txt(stem) not in ascified_stop_words]\n",
    "                    preprocessed_review = \" \".join(stems)\n",
    "                    preprocessed_reviews.append(preprocessed_review)\n",
    "                    labels = list(set(splits[1].split(\" \")))\n",
    "                    first_level_labels.append([re.sub(r\"#.*$\", \"\", s) for s in labels])\n",
    "                    second_level_labels.append([re.sub(r\"^.*#\", \"\", s) for s in labels])\n",
    "                    w.write(\"{}\\t{}\\t{}\\n\".format(review, preprocessed_review, \" \".join(labels)))\n"
   ]
  },
  {
   "cell_type": "code",
   "execution_count": 5,
   "metadata": {},
   "outputs": [
    {
     "data": {
      "text/markdown": [
       "** Number of reviews: ** 1228"
      ],
      "text/plain": [
       "<IPython.core.display.Markdown object>"
      ]
     },
     "metadata": {},
     "output_type": "display_data"
    },
    {
     "data": {
      "text/markdown": [
       "** FIRST LEVEL LABELS: ** \n",
       " - SERVICE\n",
       " - AMBIENCE\n",
       " - FOOD\n",
       " - RESTAURANT\n",
       " - DRINKS\n",
       " - LOCATION  \n",
       " - ** Number of first level labels: ** 6"
      ],
      "text/plain": [
       "<IPython.core.display.Markdown object>"
      ]
     },
     "metadata": {},
     "output_type": "display_data"
    },
    {
     "data": {
      "image/png": "[encoded data removed]",
      "text/plain": [
       "<Figure size 576x576 with 1 Axes>"
      ]
     },
     "metadata": {},
     "output_type": "display_data"
    },
    {
     "data": {
      "text/markdown": [
       "** SECOND LEVEL LABELS: ** \n",
       " - SERVICE\n",
       "GENERAL\n",
       " - AMBIENCE\n",
       "GENERAL\n",
       " - FOOD\n",
       "STYLE_OPTIONS\n",
       " - FOOD\n",
       "QUALITY\n",
       " - RESTAURANT\n",
       "PRICES\n",
       " - RESTAURANT\n",
       "GENERAL\n",
       " - DRINKS\n",
       "PRICES\n",
       " - DRINKS\n",
       "QUALITY\n",
       " - FOOD\n",
       "PRICES\n",
       " - LOCATION\n",
       "GENERAL\n",
       " - DRINKS\n",
       "STYLE_OPTIONS\n",
       " - RESTAURANT\n",
       "MISCELLANEOUS  \n",
       " - ** Number of second level labels: ** 12"
      ],
      "text/plain": [
       "<IPython.core.display.Markdown object>"
      ]
     },
     "metadata": {},
     "output_type": "display_data"
    },
    {
     "data": {
      "image/png": "[encoded data removed]",
      "text/plain": [
       "<Figure size 1296x576 with 1 Axes>"
      ]
     },
     "metadata": {},
     "output_type": "display_data"
    }
   ],
   "source": [
    "# VISUALIZE DATA STATISTICS\n",
    "printmd(\"** Number of reviews: ** {}\".format(len(first_level_labels)))\n",
    "\n",
    "# FIRST LEVEL LABELS\n",
    "matplotlib.rcParams.update({'font.size': 10})\n",
    "first_level_label_counts = {}\n",
    "for cur_labels in first_level_labels:\n",
    "        for label in cur_labels:\n",
    "            if label not in first_level_label_counts:\n",
    "                first_level_label_counts[label] = 1\n",
    "            else:\n",
    "                first_level_label_counts[label] += 1\n",
    "fig, ax = plt.subplots(figsize=(8, 8))\n",
    "first_level_labels_set = [label for label, _ in first_level_label_counts.items()]\n",
    "first_level_counts_set = [count for _, count in first_level_label_counts.items()]\n",
    "\n",
    "# PRINT FIRST LEVEL LABELS STATS\n",
    "printmd(\"** FIRST LEVEL LABELS: ** \\n - {}  \\n - ** Number of first level labels: ** {}\"\n",
    "        .format(\"\\n - \".join(first_level_labels_set), len(first_level_labels_set)))\n",
    "\n",
    "\n",
    "\n",
    "# PLOT FIRST LEVEL LABELS HISTOGRAM\n",
    "plt.bar(first_level_labels_set, first_level_counts_set, width=0.80, color='b')\n",
    "plt.title(\"First Level Category Histogram\")\n",
    "plt.ylabel(\"Count\")\n",
    "plt.xlabel(\"Label\")\n",
    "ax.set_xticks([l for l in first_level_labels_set])\n",
    "ax.set_xticklabels(first_level_labels_set)\n",
    "plt.show()\n",
    "\n",
    "# SECOND LEVEL LABELS\n",
    "matplotlib.rcParams.update({'font.size': 9})\n",
    "second_level_label_counts = {}\n",
    "for cur_labels1, cur_labels2 in zip(first_level_labels, second_level_labels):\n",
    "        for label1, label2 in zip(cur_labels1, cur_labels2):\n",
    "            label = label1 + \"\\n\" + label2\n",
    "            if label not in second_level_label_counts:\n",
    "                second_level_label_counts[label] = 1\n",
    "            else:\n",
    "                second_level_label_counts[label] += 1\n",
    "second_level_labels_set = [label for label, _ in second_level_label_counts.items()]\n",
    "second_level_counts_set = [count for _, count in second_level_label_counts.items()]\n",
    "                \n",
    "\n",
    "# PRINT FIRST LEVEL LABELS STATS\n",
    "printmd(\"** SECOND LEVEL LABELS: ** \\n - {}  \\n - ** Number of second level labels: ** {}\"\n",
    "        .format(\"\\n - \".join(second_level_labels_set), len(second_level_labels_set)))\n",
    "\n",
    "\n",
    "# PLOT SECOND LEVEL LABELS HISTOGRAM\n",
    "fig, ax = plt.subplots(figsize=(18, 8))\n",
    "plt.bar(second_level_labels_set, second_level_counts_set, width=0.80, color='b')\n",
    "\n",
    "plt.title(\"Second Level Category Histogram\")\n",
    "plt.ylabel(\"Count\")\n",
    "plt.xlabel(\"Label\")\n",
    "ax.set_xticks([l for l in second_level_labels_set])\n",
    "ax.set_xticklabels(second_level_labels_set)\n",
    "plt.show()"
   ]
  },
  {
   "cell_type": "code",
   "execution_count": 6,
   "metadata": {},
   "outputs": [],
   "source": [
    "# ALL LISTS BELOW SHOULD BE IN EQUAL LENGTH\n",
    "assert len(raw_reviews) == len(preprocessed_reviews) == len(first_level_labels) == len(second_level_labels)"
   ]
  },
  {
   "cell_type": "code",
   "execution_count": 7,
   "metadata": {},
   "outputs": [
    {
     "data": {
      "text/markdown": [
       "**Raw review:** fiyatlar normal, servis cok yavaş, tuvaletler ise pis."
      ],
      "text/plain": [
       "<IPython.core.display.Markdown object>"
      ]
     },
     "metadata": {},
     "output_type": "display_data"
    },
    {
     "data": {
      "text/markdown": [
       "**Preprocessed review:** fiyat normal servis yavas tuvalet pis"
      ],
      "text/plain": [
       "<IPython.core.display.Markdown object>"
      ]
     },
     "metadata": {},
     "output_type": "display_data"
    },
    {
     "data": {
      "text/markdown": [
       "**First level labels:**\n",
       " -  RESTAURANT\n",
       " - SERVICE\n",
       " - AMBIENCE"
      ],
      "text/plain": [
       "<IPython.core.display.Markdown object>"
      ]
     },
     "metadata": {},
     "output_type": "display_data"
    },
    {
     "data": {
      "text/markdown": [
       "**Second level labels:**\n",
       " - RESTAURANT/PRICES\n",
       " - SERVICE/GENERAL\n",
       " - AMBIENCE/GENERAL"
      ],
      "text/plain": [
       "<IPython.core.display.Markdown object>"
      ]
     },
     "metadata": {},
     "output_type": "display_data"
    }
   ],
   "source": [
    "# PRINT AN EXAMPLE REVIEW\n",
    "example_review_index = 105\n",
    "\n",
    "printmd(\"**Raw review:** {}\".format(raw_reviews[example_review_index]))\n",
    "printmd(\"**Preprocessed review:** {}\".format(preprocessed_reviews[example_review_index]))\n",
    "printmd(\"**First level labels:**\\n -  {}\".format(\"\\n - \".join(label for label in first_level_labels[example_review_index])))\n",
    "printmd(\"**Second level labels:**\\n - {}\".format(\"\\n - \".join(label1 + \"/\" + label2 for label1, label2\n",
    "                                                              in zip(first_level_labels[example_review_index],\n",
    "                                                                     second_level_labels[example_review_index]))))"
   ]
  },
  {
   "cell_type": "code",
   "execution_count": 8,
   "metadata": {},
   "outputs": [
    {
     "data": {
      "text/markdown": [
       "** TF-IDF REVIEW-TERM MATRIX **"
      ],
      "text/plain": [
       "<IPython.core.display.Markdown object>"
      ]
     },
     "metadata": {},
     "output_type": "display_data"
    },
    {
     "data": {
      "text/markdown": [
       "** Number of reviews: ** 1228"
      ],
      "text/plain": [
       "<IPython.core.display.Markdown object>"
      ]
     },
     "metadata": {},
     "output_type": "display_data"
    },
    {
     "data": {
      "text/markdown": [
       "** Number of terms: ** 1971"
      ],
      "text/plain": [
       "<IPython.core.display.Markdown object>"
      ]
     },
     "metadata": {},
     "output_type": "display_data"
    },
    {
     "data": {
      "text/markdown": [
       "** Shape of TF-IDF matrix: ** (1228, 1971)"
      ],
      "text/plain": [
       "<IPython.core.display.Markdown object>"
      ]
     },
     "metadata": {},
     "output_type": "display_data"
    },
    {
     "name": "stdout",
     "output_type": "stream",
     "text": [
      "\n"
     ]
    },
    {
     "data": {
      "text/markdown": [
       "** TF-IDF ADJACENCY MATRIX **"
      ],
      "text/plain": [
       "<IPython.core.display.Markdown object>"
      ]
     },
     "metadata": {},
     "output_type": "display_data"
    },
    {
     "data": {
      "text/markdown": [
       "** Shape of adjacency the matrix: ** (1228, 1228)"
      ],
      "text/plain": [
       "<IPython.core.display.Markdown object>"
      ]
     },
     "metadata": {},
     "output_type": "display_data"
    },
    {
     "name": "stdout",
     "output_type": "stream",
     "text": [
      "[[1.         0.         0.         ... 0.         0.         0.        ]\n",
      " [0.         1.         0.03580438 ... 0.         0.         0.        ]\n",
      " [0.         0.03580438 1.         ... 0.05416269 0.         0.05983107]\n",
      " ...\n",
      " [0.         0.         0.05416269 ... 1.         0.         0.        ]\n",
      " [0.         0.         0.         ... 0.         1.         0.        ]\n",
      " [0.         0.         0.05983107 ... 0.         0.         1.        ]]\n"
     ]
    }
   ],
   "source": [
    "# CONSTRUCT TF-IDF SIMILARITY MATRIX\n",
    "count_vect = CountVectorizer()\n",
    "X_train_counts = count_vect.fit_transform(preprocessed_reviews)\n",
    "tf_transformer = TfidfTransformer(use_idf=True).fit(X_train_counts)\n",
    "X_train_tf = tf_transformer.transform(X_train_counts)\n",
    "printmd(\"** TF-IDF REVIEW-TERM MATRIX **\")\n",
    "printmd(\"** Number of reviews: ** {}\".format(X_train_tf.shape[0]))\n",
    "printmd(\"** Number of terms: ** {}\".format(X_train_tf.shape[1]))\n",
    "printmd(\"** Shape of TF-IDF matrix: ** {}\".format(X_train_tf.shape))\n",
    "print()\n",
    "\n",
    "tfidf_adjacency_matrix = 1 - pairwise_distances(X_train_tf, metric=\"cosine\")\n",
    "printmd(\"** TF-IDF ADJACENCY MATRIX **\")\n",
    "printmd(\"** Shape of adjacency the matrix: ** {}\".format(tfidf_adjacency_matrix.shape))\n",
    "print(tfidf_adjacency_matrix)"
   ]
  },
  {
   "cell_type": "code",
   "execution_count": 9,
   "metadata": {},
   "outputs": [
    {
     "name": "stdout",
     "output_type": "stream",
     "text": [
      "Loading already trained doc2vec model...\n",
      "Done.\n"
     ]
    }
   ],
   "source": [
    "# DOC2VEC TRAINING\n",
    "class LabeledLineSentence(object):\n",
    "    def __init__(self, docs):\n",
    "        self.docs = docs\n",
    "\n",
    "    def __iter__(self):\n",
    "        for uid, doc in enumerate(self.docs):\n",
    "            yield TaggedDocument(doc.split(\" \"), [\"RESTAURANT_REVIEW_{}\".format(uid)])\n",
    "\n",
    "pretrained_doc2vec_model_path = \"resources/models/pretrained_doc2vec.model\"\n",
    "doc2vec_model_path = \"resources/models/doc2vec.model\"\n",
    "\n",
    "# LOAD DOC2VEC MODEL IF EXISTS\n",
    "if os.path.isfile(doc2vec_model_path):\n",
    "    print(\"Loading already trained doc2vec model...\")\n",
    "    doc2vec_model = Doc2Vec.load(doc2vec_model_path)\n",
    "    print(\"Done.\")\n",
    "else:\n",
    "    # LOAD PRETRAINED DOC2VEC MODEL IF EXISTS\n",
    "    if os.path.isfile(pretrained_doc2vec_model_path):\n",
    "        print(\"Loading pre-trained doc2vec model...\")\n",
    "        doc2vec_model = Doc2Vec.load(doc2vec_model_path)\n",
    "        print(\"Done\")\n",
    "    # CREATE NEW DOC2VEC MODEL OTHERWISE\n",
    "    else:\n",
    "        documents = LabeledLineSentence(preprocessed_reviews)\n",
    "        doc2vec_model = Doc2Vec(size=50, window=8, min_count=5, workers=4,\n",
    "                               alpha=0.025, min_alpha=0.025)\n",
    "        print(\"building vocab...\")\n",
    "        doc2vec_model.build_vocab(documents)\n",
    "\n",
    "    # RESUME TRAINING ON RESTAURANT DATASET \n",
    "    for epoch in range(5):\n",
    "        print(\"Training... Epoch: {}\".format(epoch))\n",
    "        doc2vec_model.train(documents, total_examples=doc2vec_model.corpus_count, epochs=1)\n",
    "        doc2vec_model.alpha -= 0.004\n",
    "        doc2vec_model.min_alpha = doc2vec_model.alpha\n",
    "    print(\"Training completed. Saving model...\")\n",
    "    doc2vec_model.save(doc2vec_model_path)\n",
    "    print(\"Done.\")\n",
    "\n"
   ]
  },
  {
   "cell_type": "code",
   "execution_count": 10,
   "metadata": {},
   "outputs": [],
   "source": [
    "# PLOT WORD VECTORS\n",
    "def display_closestwords_tsnescatterplot(model, word, dim):\n",
    "    \n",
    "    arr = np.empty((0,dim), dtype='f')\n",
    "    word_labels = [word]\n",
    "\n",
    "    # get close words\n",
    "    close_words = model.wv.similar_by_word(word, topn=10)\n",
    "    \n",
    "    # add the vector for each of the closest words to the array\n",
    "    arr = np.append(arr, np.array([model[word]]), axis=0)\n",
    "    for wrd_score in close_words:\n",
    "        wrd_vector = model[wrd_score[0]]\n",
    "        word_labels.append(wrd_score[0])\n",
    "        arr = np.append(arr, np.array([wrd_vector]), axis=0)\n",
    "        \n",
    "    # find tsne coords for 2 dimensions\n",
    "    tsne = TSNE(n_components=2, random_state=0)\n",
    "    np.set_printoptions(suppress=True)\n",
    "    Y = tsne.fit_transform(arr)\n",
    "\n",
    "    x_coords = Y[:, 0]\n",
    "    y_coords = Y[:, 1]\n",
    "    # display scatter plot\n",
    "    plt.scatter(x_coords, y_coords)\n",
    "\n",
    "    for label, x, y in zip(word_labels, x_coords, y_coords):\n",
    "        plt.annotate(label, xy=(x, y), xytext=(0, 0), textcoords='offset points')\n",
    "    plt.xlim(x_coords.min()+0.00005, x_coords.max()+0.00005)\n",
    "    plt.ylim(y_coords.min()+0.00005, y_coords.max()+0.00005)\n",
    "    plt.show()"
   ]
  },
  {
   "cell_type": "code",
   "execution_count": null,
   "metadata": {},
   "outputs": [],
   "source": [
    "# MOST SIMILAR WORDS TO GIVEN WORD\n",
    "word = input()\n",
    "if word in doc2vec_model.wv:\n",
    "    display_closestwords_tsnescatterplot(doc2vec_model, word, doc2vec_model.vector_size)\n",
    "else:\n",
    "    print(\"Not in vacobulary\")"
   ]
  },
  {
   "cell_type": "code",
   "execution_count": null,
   "metadata": {},
   "outputs": [],
   "source": [
    "# PLOT DOCUMENTS WITH TSNE\n",
    "arr = np.empty((0, doc2vec_model.vector_size), dtype='f')\n",
    "doc_labels = []\n",
    "for i in range(50):\n",
    "    selected_doc_index = random.randrange(len(raw_reviews))\n",
    "    doc2vec_label = \"RESTAURANT_REVIEW_{}\".format(selected_doc_index)\n",
    "    arr = np.append(arr, np.array([doc2vec_model.docvecs[doc2vec_label]]), axis=0)\n",
    "    doc_labels.append(raw_reviews[selected_doc_index])\n",
    "    \n",
    "# find tsne coords for 2 dimensions\n",
    "tsne = TSNE(n_components=2, random_state=0)\n",
    "np.set_printoptions(suppress=True)\n",
    "Y = tsne.fit_transform(arr)\n",
    "plt.figure(1, figsize=(20,20))\n",
    "x_coords = Y[:, 0]\n",
    "y_coords = Y[:, 1]\n",
    "# display scatter plot\n",
    "plt.scatter(x_coords, y_coords)\n",
    "\n",
    "for label, x, y in zip(doc_labels, x_coords, y_coords):\n",
    "    plt.annotate(label, xy=(x, y), xytext=(0, 0), textcoords='offset points')\n",
    "plt.xlim(x_coords.min()+0.00005, x_coords.max()+0.00005)\n",
    "plt.ylim(y_coords.min()+0.00005, y_coords.max()+0.00005)\n",
    "plt.show()"
   ]
  },
  {
   "cell_type": "code",
   "execution_count": null,
   "metadata": {},
   "outputs": [],
   "source": [
    "review_vectors = []\n",
    "for i, review in enumerate(raw_reviews):\n",
    "    review_vectors.append(doc2vec_model.docvecs[\"RESTAURANT_REVIEW_{}\".format(i)])\n",
    "    "
   ]
  },
  {
   "cell_type": "code",
   "execution_count": null,
   "metadata": {},
   "outputs": [],
   "source": [
    "# CONSTRUCT DOC2VEC SIMILARITY MATRIX\n",
    "doc2vec_adjacency_matrix = 1 - pairwise_distances(review_vectors, metric=\"cosine\")\n",
    "printmd(\"** DOC2VEC ADJACENCY MATRIX **\")\n",
    "printmd(\"** Shape of adjacency the matrix: ** {}\".format(doc2vec_adjacency_matrix.shape))\n",
    "print(doc2vec_adjacency_matrix)"
   ]
  },
  {
   "cell_type": "code",
   "execution_count": null,
   "metadata": {},
   "outputs": [],
   "source": [
    "# CREATE GRAPHS USING SIMILARITY MATRICES\n",
    "def create_graph(adjacency_matrix, threshold=0.1, subsample_size=0):\n",
    "    rows, cols = np.where(adjacency_matrix >= threshold)\n",
    "    edges = zip(rows.tolist(), cols.tolist())\n",
    "    gr = nx.Graph()\n",
    "    gr.add_edges_from(edges)\n",
    "    if subsample_size > 0:\n",
    "        return gr.subgraph(list(range(subsample_size)))\n",
    "    else:\n",
    "        return gr\n",
    "\n",
    "def get_meaningful_subgraph(G):\n",
    "    G2 = G.subgraph(random.sample(list(range(0, len(G.nodes))), 100))\n",
    "    degrees = G2.degree()\n",
    "    to_keep = [k for k, v in degrees if v > 2]\n",
    "    G3 = G2.subgraph(to_keep)\n",
    "    return G3.subgraph(to_keep)"
   ]
  },
  {
   "cell_type": "code",
   "execution_count": null,
   "metadata": {},
   "outputs": [],
   "source": [
    "# CREATE TF-IDF SIMILARITY GRAPH\n",
    "tfidf_graph = create_graph(tfidf_adjacency_matrix, threshold=0.1)"
   ]
  },
  {
   "cell_type": "code",
   "execution_count": null,
   "metadata": {},
   "outputs": [],
   "source": [
    "# PLOT SAMPLES IN TF-IDF SIMILARITY GRAPH\n",
    "subsample_graph = get_meaningful_subgraph(tfidf_graph)\n",
    "pos = nx.spring_layout(subsample_graph)\n",
    "plt.figure(1, figsize=(20,10))\n",
    "nx.draw(subsample_graph, pos=pos, node_size=200, labels={i: raw_reviews[i] for i in subsample_graph.nodes}, with_labels=True)\n",
    "plt.show()"
   ]
  },
  {
   "cell_type": "code",
   "execution_count": null,
   "metadata": {},
   "outputs": [],
   "source": [
    "# CREATE AND PLOT DOC2VEC SIMILARITY GRAPH\n",
    "doc2vec_graph = create_graph(doc2vec_adjacency_matrix, threshold=0.3)"
   ]
  },
  {
   "cell_type": "code",
   "execution_count": null,
   "metadata": {},
   "outputs": [],
   "source": [
    "# PLOT SAMPLES IN DOC2VEC SIMILARITY GRAPH\n",
    "subsample_graph = get_meaningful_subgraph(doc2vec_graph)\n",
    "pos = nx.spring_layout(subsample_graph)\n",
    "plt.figure(1, figsize=(30,30))\n",
    "nx.draw(subsample_graph, pos=pos, node_size=200, labels={i: raw_reviews[i] for i in subsample_graph.nodes}, with_labels=True)\n",
    "plt.show()"
   ]
  },
  {
   "cell_type": "code",
   "execution_count": null,
   "metadata": {
    "scrolled": false
   },
   "outputs": [],
   "source": [
    "# PLOT DEGREE DISTRIBUTION OD TF_IDF AND DOC2VEC SIMILARITY GRAPHS WITH VARYING THRESHOLD VALUES\n",
    "for i, adjacency_matrix in enumerate([tfidf_adjacency_matrix, doc2vec_adjacency_matrix]):\n",
    "    if i == 0:\n",
    "        printmd(\"** METHOD: TF-IDF ** \\n\")\n",
    "    else:\n",
    "        printmd(\"** METHOD: DOC2VEC ** \\n\")\n",
    "    for threshold in [0.1, 0.2, 0.3, 0.4]:\n",
    "        printmd(\"** Threshold: ** {}\".format(threshold))\n",
    "        graph = create_graph(adjacency_matrix, threshold=threshold)\n",
    "        degree_sequence = sorted([d for n, d in graph.degree()], reverse=True)  # degree sequence\n",
    "        # print \"Degree sequence\", degree_sequence\n",
    "        degreeCount = collections.Counter(degree_sequence)\n",
    "        deg, cnt = zip(*degreeCount.items())\n",
    "\n",
    "        fig, ax = plt.subplots(figsize=(30, 30))\n",
    "        plt.bar(deg, cnt, width=0.80, color='b')\n",
    "\n",
    "        plt.title(\"Degree Histogram\")\n",
    "        plt.ylabel(\"Count\")\n",
    "        plt.xlabel(\"Degree\")\n",
    "        ax.set_xticks([d + 0.4 for d in deg])\n",
    "        ax.set_xticklabels(deg)\n",
    "\n",
    "        # draw graph in inset\n",
    "        plt.axes([0.4, 0.4, 0.5, 0.5])\n",
    "        Gcc = sorted(nx.connected_component_subgraphs(graph), key=len, reverse=True)[0]\n",
    "        pos = nx.spring_layout(graph)\n",
    "        plt.axis('off')\n",
    "        nx.draw_networkx_nodes(graph, pos, node_size=20)\n",
    "        nx.draw_networkx_edges(graph, pos, alpha=0.4)\n",
    "        printmd(\"** Average degree count ** {}\".format(np.mean(degree_sequence)))\n",
    "        printmd(\"** Number of nodes without connection ** {}\".format(len([x for x in degree_sequence if x <= 2])))\n",
    "        plt.show()"
   ]
  },
  {
   "cell_type": "code",
   "execution_count": null,
   "metadata": {},
   "outputs": [],
   "source": []
  },
  {
   "cell_type": "code",
   "execution_count": null,
   "metadata": {},
   "outputs": [],
   "source": []
  },
  {
   "cell_type": "code",
   "execution_count": null,
   "metadata": {},
   "outputs": [],
   "source": [
    "# CREATE PERSONALIZATION DICT FOR PERONILIZED PAGE RANK\n",
    "def create_personalization_dic(label, num_seed=1, level=\"first\"):\n",
    "    personlization = {}\n",
    "    num_found = 0\n",
    "    for i, (cur_labels1, cur_labels2) in enumerate(zip(first_level_labels, second_level_labels)):\n",
    "        personlization[i] = 0\n",
    "        if num_found < num_seed:\n",
    "            for label1, label2 in zip(cur_labels1, cur_labels2):\n",
    "                if level == \"first\":\n",
    "                    label_ = label1\n",
    "                elif level == \"second\":\n",
    "                    label_ = label1 + \"\\n\" + label2\n",
    "                else:\n",
    "                    raise IOError(\"level parameter must be 'first' or 'second'!\")\n",
    "                if label == label_:\n",
    "                    personlization[i] = 1\n",
    "                    num_found += 1\n",
    "                    #print(\"Seed Sentence_{}={}\\nLabel={}\".format(num_found, sentences[i], label))\n",
    "                    break\n",
    "    return personlization"
   ]
  },
  {
   "cell_type": "code",
   "execution_count": null,
   "metadata": {},
   "outputs": [],
   "source": [
    "# CALCULATE RANDOM BASELINES USING STANDARD PAGE RANK ALGORITHM\n",
    "results_dic = {}\n",
    "for level in [\"first\", \"second\"]:\n",
    "    precisions = []\n",
    "    recalls = []\n",
    "    fs = []\n",
    "    threshold_for_labeling = 0.001\n",
    "    if level == \"first\":\n",
    "        label_set = first_level_labels_set\n",
    "        label_counts = first_level_label_counts\n",
    "    else:\n",
    "        label_set = second_level_labels_set\n",
    "        label_counts = second_level_label_counts\n",
    "    for l in label_set:\n",
    "        ppr1 = nx.pagerank(tfidf_graph, max_iter=100)\n",
    "        predictions = [k for k, v in ppr1.items() if v >= threshold_for_labeling]\n",
    "        if level == \"first\":\n",
    "            corrects = sum([1 for prediction in predictions if l in  first_level_labels[prediction]])\n",
    "        else:\n",
    "            corrects = sum([1 for prediction in predictions \n",
    "                            if re.sub(\"^.*\\n\", r\"\", l) in second_level_labels[prediction]\n",
    "                            and re.sub(\"\\n.*$\", r\"\", l) in first_level_labels[prediction]\n",
    "                           ])\n",
    "        \n",
    "        relevant_count = label_counts[l]\n",
    "        prediction_count = len(predictions)\n",
    "        if prediction_count == 0:\n",
    "            precision = 1\n",
    "        else:\n",
    "            precision = (corrects * 1.0) / prediction_count\n",
    "        if relevant_count == 0:\n",
    "            recall = 1\n",
    "        else:\n",
    "            recall = (corrects * 1.0) / relevant_count\n",
    "        if precision == 0 and recall == 0:\n",
    "            f = 0.0\n",
    "        else:\n",
    "            f = 2 * precision * recall / (precision + recall)\n",
    "        precisions.append(precision)\n",
    "        recalls.append(recall)\n",
    "        fs.append(f)\n",
    "    average_precision = sum(precisions) / len(precisions)\n",
    "    average_recall = sum(recalls) / len(recalls)\n",
    "    average_f = sum(fs) / len(fs)\n",
    "    random_base_line_result = {\"Average F1 Score\": average_f,\n",
    "                               \"Average Precision\": average_precision,\n",
    "                               \"Average Recall\": average_recall,\n",
    "                               \"Labeling Threshold\": threshold_for_labeling,\n",
    "                               \"Number of labeled reviews\": \"N/A\"\n",
    "                              }\n",
    "    results_dic[\"Random baseline\\n ({} level)\".format(level)] = random_base_line_result\n",
    "random_base_line_result_df = pd.DataFrame.from_dict(results_dic)\n",
    "display(HTML(random_base_line_result_df.to_html()))"
   ]
  },
  {
   "cell_type": "code",
   "execution_count": null,
   "metadata": {},
   "outputs": [],
   "source": [
    "# EVALUATE PERFORMANCE, EXPERIMENTS WITH VARYING THRESHOLDS and METHODS\n",
    "thresholds_for_labeling = [0.0005, 0.001, 0.002, 0.005, 0.01, 0.02, 0.1]\n",
    "num_seeds = [1, 5, 10, 20, 50]\n",
    "for num_seed in num_seeds:\n",
    "    for threshold_for_labeling in thresholds_for_labeling:\n",
    "        for method in [\"TF-IDF\", \"DOC2VEC\"]:\n",
    "            for level in [\"first\", \"second\"]:\n",
    "                precisions = []\n",
    "                recalls = []\n",
    "                fs = []\n",
    "                if level == \"first\":\n",
    "                    label_set = first_level_labels_set\n",
    "                    label_counts = first_level_label_counts\n",
    "                else:\n",
    "                    label_set = second_level_labels_set\n",
    "                    label_counts = second_level_label_counts\n",
    "                for l in label_set:\n",
    "                    personalization = create_personalization_dic(l, num_seed=num_seed, level=level)\n",
    "                    if method == \"TF-IDF\":\n",
    "                        ppr1 = nx.pagerank(tfidf_graph, personalization=personalization, max_iter=100)\n",
    "                    else:\n",
    "                        ppr1 = nx.pagerank(doc2vec_graph, personalization=personalization, max_iter=100)\n",
    "                    predictions = [k for k, v in ppr1.items() if v >= threshold_for_labeling]\n",
    "                    if level == \"first\":\n",
    "                        corrects = sum([1 for prediction in predictions if l in  first_level_labels[prediction]])\n",
    "                    else:\n",
    "                        corrects = sum([1 for prediction in predictions \n",
    "                                        if re.sub(\"^.*\\n\", r\"\", l) in second_level_labels[prediction]\n",
    "                                        and re.sub(\"\\n.*$\", r\"\", l) in first_level_labels[prediction]\n",
    "                                       ])\n",
    "\n",
    "                    relevant_count = label_counts[l]\n",
    "                    prediction_count = len(predictions)\n",
    "                    if prediction_count == 0:\n",
    "                        precision = 1\n",
    "                    else:\n",
    "                        precision = (corrects * 1.0) / prediction_count\n",
    "                    if relevant_count == 0:\n",
    "                        recall = 1\n",
    "                    else:\n",
    "                        recall = (corrects * 1.0) / relevant_count\n",
    "                    if precision == 0 and recall == 0:\n",
    "                        f = 0.0\n",
    "                    else:\n",
    "                        f = 2 * precision * recall / (precision + recall)\n",
    "                    precisions.append(precision)\n",
    "                    recalls.append(recall)\n",
    "                    fs.append(f)\n",
    "                average_precision = sum(precisions) / len(precisions)\n",
    "                average_recall = sum(recalls) / len(recalls)\n",
    "                average_f = sum(fs) / len(fs)\n",
    "                result = {\"Average F1 Score\": average_f,\n",
    "                          \"Average Precision\": average_precision,\n",
    "                          \"Average Recall\": average_recall,\n",
    "                          \"Labeling Threshold\": threshold_for_labeling,\n",
    "                          \"Number of labeled reviews\": num_seed\n",
    "                         }\n",
    "                results_dic[\"{}\\n [Labeling Threshold={},\\n Number of labeled reviews={}] ({} level performance)\"\n",
    "                            .format(method, threshold_for_labeling, num_seed, level)] = result\n",
    "result_df = pd.DataFrame.from_dict(results_dic)\n",
    "result_df.to_excel(\"Results.xlsx\")\n",
    "display(HTML(result_df.to_html()))"
   ]
  },
  {
   "cell_type": "code",
   "execution_count": null,
   "metadata": {},
   "outputs": [],
   "source": [
    "# SELECT BEST CONFIGURATION\n",
    "best_tfidf_threshold = 0.0\n",
    "best_doc2vec_threshold = 0.0\n",
    "max_acc = 0.0\n",
    "best_conf = \"\"\n",
    "for conf_name, conf_dic in results_dic.items():\n",
    "    if conf_dic[\"Average F1 Score\"] > max_acc:\n",
    "        max_acc = conf_dic[\"Average F1 Score\"]\n",
    "        best_conf = conf_name\n",
    "        if conf_name.startswith(\"TF-IDF\"):\n",
    "            best_tfidf_threshold = conf_dic[\"Labeling Threshold\"]\n",
    "        else:\n",
    "            best_doc2vec_threshold = conf_dic[\"Labeling Threshold\"]\n",
    "printmd(\"** Best Configuration: ** {}\".format(best_conf))\n",
    "printmd(\"** Best F1 Score: ** {}\".format(max_acc))"
   ]
  },
  {
   "cell_type": "code",
   "execution_count": null,
   "metadata": {},
   "outputs": [],
   "source": [
    "# Labeling Threshold - F Score plot \n",
    "doc2vec_threshold_first_level = []\n",
    "doc2vec_f_scores_first_level = []\n",
    "doc2vec_threshold_second_level = []\n",
    "doc2vec_f_scores_second_level = []\n",
    "tf_idf_threshold_first_level = []\n",
    "tf_idf_f_scores_first_level = []\n",
    "tf_idf_threshold_second_level = []\n",
    "tf_idf_f_scores_second_level = []\n",
    "for conf_name, conf_dic in results_dic.items():\n",
    "    if conf_name.startswith(\"TF-IDF\") and conf_dic[\"Number of labeled reviews\"] == 50:\n",
    "        if \"first\" in conf_name:\n",
    "            tf_idf_threshold_first_level.append(conf_dic[\"Labeling Threshold\"])\n",
    "            tf_idf_f_scores_first_level.append(conf_dic[\"Average F1 Score\"])\n",
    "        else:\n",
    "            tf_idf_threshold_second_level.append(conf_dic[\"Labeling Threshold\"])\n",
    "            tf_idf_f_scores_second_level.append(conf_dic[\"Average F1 Score\"])\n",
    "    elif conf_dic[\"Number of labeled reviews\"] == 50:\n",
    "        if \"first\" in conf_name:\n",
    "            doc2vec_threshold_first_level.append(conf_dic[\"Labeling Threshold\"])\n",
    "            doc2vec_f_scores_first_level.append(conf_dic[\"Average F1 Score\"])\n",
    "        else:\n",
    "            doc2vec_threshold_second_level.append(conf_dic[\"Labeling Threshold\"])\n",
    "            doc2vec_f_scores_second_level.append(conf_dic[\"Average F1 Score\"])\n",
    "matplotlib.rcParams.update({'font.size': 14})\n",
    "fig, ax = plt.subplots(figsize=(20, 10))\n",
    "plt.title(\"Labeling threshold vs Performance\")\n",
    "plt.ylabel(\"F1 Score\")\n",
    "plt.xlabel(\"Labeling threshold\")\n",
    "plt.plot(doc2vec_threshold_first_level, doc2vec_f_scores_first_level)\n",
    "plt.plot(doc2vec_threshold_second_level, doc2vec_f_scores_second_level)\n",
    "plt.plot(tf_idf_threshold_first_level, tf_idf_f_scores_first_level)\n",
    "plt.plot(tf_idf_threshold_second_level, tf_idf_f_scores_second_level)\n",
    "plt.yscale('linear')\n",
    "plt.grid(True)\n",
    "plt.legend(['Doc2Vec first level performance', \n",
    "            'Doc2Vec second level performance', \n",
    "            'TF-IDF first level performance', \n",
    "            'TF-IDF second level performance'], loc='upper left')"
   ]
  },
  {
   "cell_type": "code",
   "execution_count": null,
   "metadata": {},
   "outputs": [],
   "source": [
    "# Number of labeled reviews - F Score plot \n",
    "doc2vec_num_seed_first_level = []\n",
    "doc2vec_f_scores_first_level = []\n",
    "doc2vec_num_seed_second_level = []\n",
    "doc2vec_f_scores_second_level = []\n",
    "tf_idf_num_seed_first_level = []\n",
    "tf_idf_f_scores_first_level = []\n",
    "tf_idf_num_seed_second_level = []\n",
    "tf_idf_f_scores_second_level = []\n",
    "for conf_name, conf_dic in results_dic.items():\n",
    "    if conf_name.startswith(\"TF-IDF\") and conf_dic[\"Labeling Threshold\"] == best_tfidf_threshold:\n",
    "        if \"first\" in conf_name:\n",
    "            tf_idf_num_seed_first_level.append(conf_dic[\"Number of labeled reviews\"])\n",
    "            tf_idf_f_scores_first_level.append(conf_dic[\"Average F1 Score\"])\n",
    "        else:\n",
    "            tf_idf_num_seed_second_level.append(conf_dic[\"Number of labeled reviews\"])\n",
    "            tf_idf_f_scores_second_level.append(conf_dic[\"Average F1 Score\"])\n",
    "    elif conf_dic[\"Labeling Threshold\"] == best_doc2vec_threshold:\n",
    "        if \"first\" in conf_name:\n",
    "            doc2vec_num_seed_first_level.append(conf_dic[\"Number of labeled reviews\"])\n",
    "            doc2vec_f_scores_first_level.append(conf_dic[\"Average F1 Score\"])\n",
    "        else:\n",
    "            doc2vec_num_seed_second_level.append(conf_dic[\"Number of labeled reviews\"])\n",
    "            doc2vec_f_scores_second_level.append(conf_dic[\"Average F1 Score\"])\n",
    "matplotlib.rcParams.update({'font.size': 14})\n",
    "fig, ax = plt.subplots(figsize=(20, 10))\n",
    "plt.title(\"Number of Labeled Reviews vs Performance\")\n",
    "plt.ylabel(\"F1 Score\")\n",
    "plt.xlabel(\"Number of labeled reviews\")\n",
    "plt.plot(doc2vec_num_seed_first_level, doc2vec_f_scores_first_level)\n",
    "plt.plot(doc2vec_num_seed_second_level, doc2vec_f_scores_second_level)\n",
    "plt.plot(tf_idf_num_seed_first_level, tf_idf_f_scores_first_level)\n",
    "plt.plot(tf_idf_num_seed_second_level, tf_idf_f_scores_second_level)\n",
    "plt.yscale('linear')\n",
    "plt.grid(True)\n",
    "plt.legend(['Doc2Vec first level performance', \n",
    "            'Doc2Vec second level performance', \n",
    "            'TF-IDF first level performance', \n",
    "            'TF-IDF second level performance'], loc='upper left')"
   ]
  },
  {
   "cell_type": "code",
   "execution_count": null,
   "metadata": {},
   "outputs": [],
   "source": []
  },
  {
   "cell_type": "code",
   "execution_count": null,
   "metadata": {},
   "outputs": [],
   "source": [
    "# PREDICTIONS WITH BEST CONFIGURATION\n",
    "num_seed = 50\n",
    "method = \"DOC2VEC\"\n",
    "threshold_for_labeling = best_doc2vec_threshold\n",
    "level = \"second\"\n",
    "\n",
    "model_outputs = []\n",
    "if level == \"first\":\n",
    "    label_set = first_level_labels_set\n",
    "else:\n",
    "    label_set = second_level_labels_set\n",
    "for raw_text, cur_labels1, cur_labels2 in zip(raw_reviews, first_level_labels, second_level_labels):\n",
    "    if level == \"first\":\n",
    "        model_outputs.append({\"Text\": raw_text, \n",
    "                              \"Predicted labels\": \"\", \n",
    "                              \"Gold labels\": \" \".join(cur_labels1)})\n",
    "    else:\n",
    "        model_outputs.append({\"Text\": raw_text, \n",
    "                              \"Predicted labels\": \"\", \n",
    "                              \"Gold labels\": \" \".join(\n",
    "                                  [cur_label1 + \"/\" + cur_label2 \n",
    "                                   for cur_label1, cur_label2 in zip(cur_labels1, cur_labels2)]\n",
    "                              )\n",
    "                             })\n",
    "\n",
    "for l in label_set:\n",
    "    personalization = create_personalization_dic(l, num_seed=num_seed, level=level)\n",
    "    if method == \"TF-IDF\":\n",
    "        ppr1 = nx.pagerank(tfidf_graph, personalization=personalization, max_iter=100)\n",
    "    else:\n",
    "        ppr1 = nx.pagerank(doc2vec_graph, personalization=personalization, max_iter=100)\n",
    "    predictions = [k for k, v in ppr1.items() if v >= threshold_for_labeling]\n",
    "    for prediction in predictions:\n",
    "        model_outputs[prediction][\"Predicted labels\"] = model_outputs[prediction][\"Predicted labels\"] + \" \" + l.replace(\"\\n\",\"/\")\n",
    "        model_outputs[prediction][\"Predicted labels\"] = model_outputs[prediction][\"Predicted labels\"].strip()\n",
    "\n",
    "model_predictions_df = pd.DataFrame.from_dict(model_outputs)\n",
    "model_predictions_df.to_excel(\"Model Predictions.xlsx\")\n",
    "display(HTML(model_predictions_df.to_html()))"
   ]
  },
  {
   "cell_type": "code",
   "execution_count": null,
   "metadata": {},
   "outputs": [],
   "source": []
  },
  {
   "cell_type": "code",
   "execution_count": null,
   "metadata": {},
   "outputs": [],
   "source": []
  },
  {
   "cell_type": "code",
   "execution_count": null,
   "metadata": {},
   "outputs": [],
   "source": []
  },
  {
   "cell_type": "code",
   "execution_count": null,
   "metadata": {},
   "outputs": [],
   "source": []
  },
  {
   "cell_type": "code",
   "execution_count": null,
   "metadata": {},
   "outputs": [],
   "source": []
  }
 ],
 "metadata": {
  "kernelspec": {
   "display_name": "Python 3",
   "language": "python",
   "name": "python3"
  },
  "language_info": {
   "codemirror_mode": {
    "name": "ipython",
    "version": 3
   },
   "file_extension": ".py",
   "mimetype": "text/x-python",
   "name": "python",
   "nbconvert_exporter": "python",
   "pygments_lexer": "ipython3",
   "version": "3.6.5"
  }
 },
 "nbformat": 4,
 "nbformat_minor": 2
}
